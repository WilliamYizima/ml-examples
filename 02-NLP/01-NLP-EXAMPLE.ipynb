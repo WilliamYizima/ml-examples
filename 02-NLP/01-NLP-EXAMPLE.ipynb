{
 "cells": [
  {
   "cell_type": "markdown",
   "metadata": {},
   "source": [
    "## Imports"
   ]
  },
  {
   "cell_type": "code",
   "execution_count": null,
   "metadata": {},
   "outputs": [],
   "source": [
    "# install caso não tenha\n",
    "# !python -m spacy download pt_core_news_sm"
   ]
  },
  {
   "cell_type": "code",
   "execution_count": 1,
   "metadata": {
    "scrolled": true
   },
   "outputs": [
    {
     "name": "stderr",
     "output_type": "stream",
     "text": [
      "C:\\Users\\william.yizima\\anaconda3\\lib\\site-packages\\gensim\\similarities\\__init__.py:15: UserWarning: The gensim.similarities.levenshtein submodule is disabled, because the optional Levenshtein package <https://pypi.org/project/python-Levenshtein/> is unavailable. Install Levenhstein (e.g. `pip install python-Levenshtein`) to suppress this warning.\n",
      "  warnings.warn(msg)\n"
     ]
    }
   ],
   "source": [
    "import spacy\n",
    "import numpy as np\n",
    "import pandas as pd\n",
    "from gensim.models import KeyedVectors"
   ]
  },
  {
   "cell_type": "markdown",
   "metadata": {
    "heading_collapsed": true
   },
   "source": [
    "## Baixando Corpora:\n",
    "- http://www.nilc.icmc.usp.br/embeddings\n",
    "    - download cbow - 300 dimensões (fim da página)\n",
    "    - download skig_gram - 300 dimensões (fim da página)\n",
    "- Esse corpora serve de dicionário para a transformação de palavras em vetores"
   ]
  },
  {
   "cell_type": "code",
   "execution_count": 5,
   "metadata": {
    "hidden": true
   },
   "outputs": [],
   "source": [
    "# Carregando os \"dicionários\"\n",
    "w2v_modelo_cbow = KeyedVectors.load_word2vec_format(\"./corpora_nilc/cbow_s300.txt\")"
   ]
  },
  {
   "cell_type": "markdown",
   "metadata": {
    "heading_collapsed": true
   },
   "source": [
    "## Testando tokenizador"
   ]
  },
  {
   "cell_type": "markdown",
   "metadata": {
    "heading_collapsed": true,
    "hidden": true
   },
   "source": [
    "### Criando uma instância do Spacy"
   ]
  },
  {
   "cell_type": "code",
   "execution_count": 77,
   "metadata": {
    "hidden": true
   },
   "outputs": [],
   "source": [
    "nlp = spacy.load(\"pt_core_news_sm\", disable=[\"paser\", \"ner\", \"tagger\", \"textcat\"])"
   ]
  },
  {
   "cell_type": "markdown",
   "metadata": {
    "heading_collapsed": true,
    "hidden": true
   },
   "source": [
    "### Tokenizador\n",
    "- Dividindo a frase em palavras de maneira mais assertiva\n",
    "- tratando algumas palavras:\n",
    "    - números - não trazem grande significância(semantica) a frase\n",
    "    - palavras \"inúteis\" para a semântica da frase"
   ]
  },
  {
   "cell_type": "code",
   "execution_count": 109,
   "metadata": {
    "hidden": true
   },
   "outputs": [],
   "source": [
    "frase_exemplo = 'Eu gosto do GOKU! -21/10/2000 '"
   ]
  },
  {
   "cell_type": "code",
   "execution_count": 110,
   "metadata": {
    "hidden": true
   },
   "outputs": [
    {
     "name": "stdout",
     "output_type": "stream",
     "text": [
      "token original: Eu\n",
      "token tratado: eu\n",
      "~~~~ \n",
      "\n",
      "token original: gosto\n",
      "token tratado: gosto\n",
      "~~~~ \n",
      "\n",
      "token original: do\n",
      "token tratado: do\n",
      "~~~~ \n",
      "\n",
      "token original: GOKU\n",
      "token tratado: goku\n",
      "~~~~ \n",
      "\n",
      "token original: !\n",
      "token tratado: !\n",
      "~~~~ \n",
      "\n",
      "token original: -21/10/2000\n",
      "token tratado: -21/10/2000\n",
      "~~~~ \n",
      "\n"
     ]
    }
   ],
   "source": [
    "## inserindo a frase na instância\n",
    "doc = nlp(frase_exemplo)\n",
    "\n",
    "for token in doc:\n",
    "    print(f'token original: {token}')\n",
    "    print(f'token tratado: {token.text.lower()}')\n",
    "    print('~~~~ \\n')"
   ]
  },
  {
   "cell_type": "code",
   "execution_count": 111,
   "metadata": {
    "hidden": true
   },
   "outputs": [
    {
     "name": "stdout",
     "output_type": "stream",
     "text": [
      "token original: gosto\n",
      "token tratado: gosto\n",
      "~~~~ \n",
      "\n",
      "token original: GOKU\n",
      "token tratado: goku\n",
      "~~~~ \n",
      "\n"
     ]
    }
   ],
   "source": [
    "for token in doc:\n",
    "    if (not token.is_stop and token.is_alpha):\n",
    "        print(f'token original: {token}')\n",
    "        print(f'token tratado: {token.text.lower()}')\n",
    "        print('~~~~ \\n')"
   ]
  },
  {
   "cell_type": "code",
   "execution_count": 112,
   "metadata": {
    "hidden": true
   },
   "outputs": [
    {
     "name": "stdout",
     "output_type": "stream",
     "text": [
      "['gosto', 'goku']\n"
     ]
    }
   ],
   "source": [
    "# Criando uma função\n",
    "nlp = spacy.load(\"pt_core_news_sm\", disable=[\"paser\", \"ner\", \"tagger\", \"textcat\"])\n",
    "\n",
    "def tokenizador(texto):\n",
    "    \"\"\"\n",
    "        recebe um texto e tokeniza, lowe_case, retira numeros e stop words\n",
    "    \"\"\"\n",
    "    doc = nlp(texto)\n",
    "    tokens_validos = []\n",
    "    for token in doc:\n",
    "        e_valido = not token.is_stop and token.is_alpha\n",
    "        if e_valido:\n",
    "            tokens_validos.append(token.text.lower())\n",
    "\n",
    "    \n",
    "    return  tokens_validos\n",
    "\n",
    "tokens = tokenizador(frase_exemplo)\n",
    "print(tokens)"
   ]
  },
  {
   "cell_type": "markdown",
   "metadata": {
    "heading_collapsed": true,
    "hidden": true
   },
   "source": [
    "### Transformando os tokens em vetores"
   ]
  },
  {
   "cell_type": "code",
   "execution_count": 122,
   "metadata": {
    "hidden": true
   },
   "outputs": [
    {
     "name": "stdout",
     "output_type": "stream",
     "text": [
      "(1, 300)\n",
      "[[ 0.15944     0.184455    0.047713   -0.05863401  0.17082501 -0.18356301\n",
      "   0.203713   -0.011041    0.70918301 -0.12342701 -0.401985    0.063911\n",
      "  -0.323165   -0.05355601 -0.15809899 -0.22740199 -0.41576599 -0.69300199\n",
      "   0.159361    0.14347801 -0.14933201 -0.15896101 -0.262879    0.49546199\n",
      "   0.34412001  0.046617    0.102513    0.177324   -0.37688401  0.12481798\n",
      "  -0.000995   -0.42847899  0.220005   -0.026092    0.58421199 -0.171002\n",
      "   0.10148299 -0.048152    0.258902    0.18021301  0.117406    0.10504\n",
      "   0.045488    0.30392901 -0.04425     0.25195001 -0.18918901 -0.35875701\n",
      "   0.423582   -0.07098     0.40591     0.037249   -0.331585    0.157816\n",
      "   0.299494    0.22547299  0.46450201  0.19722299 -0.247617   -0.091273\n",
      "  -0.161918    0.196182    0.38344501 -0.382522   -0.28660199 -0.532369\n",
      "   0.25413899 -0.391881    0.12975501 -0.33665199 -0.234873   -0.7362\n",
      "  -0.039475   -0.17230098 -0.01678099  0.23881     0.115316    0.28634\n",
      "  -0.05727     0.015823   -0.27652601  0.12886801  0.089622   -0.00175099\n",
      "   0.210928    0.09405099  0.130253    0.423815   -0.41977     0.296332\n",
      "  -0.085109    0.15023499 -0.172868    0.28846198  0.02257     0.59032401\n",
      "   0.006354   -0.73054898  0.02566     0.06091799 -0.38761499  0.146722\n",
      "   0.048607   -0.299558    0.17271399 -0.176598   -0.23020501  0.025777\n",
      "   0.40088101 -0.064236    0.12682401  0.295128   -0.321491    0.011888\n",
      "  -0.04843    -0.003601    0.28036301 -0.023966    0.01716499 -0.060256\n",
      "   0.389479    0.08545     0.359309    0.037607   -0.09332299 -0.008594\n",
      "  -0.062486    0.40920299 -0.38686601  0.455047   -0.116011    0.065846\n",
      "   0.117496    0.36552201  0.29074899 -0.124565    0.052347    0.109637\n",
      "  -0.21465001  0.326268   -0.44649002 -0.005343   -0.023009   -0.20953501\n",
      "   0.007641   -0.05947    -0.568661   -0.04627199  0.501579    0.045774\n",
      "  -0.41378601  0.52938699  0.190617   -0.40663201 -0.15729399  0.45258997\n",
      "  -0.536395    0.01247901 -0.39896399 -0.20187099 -0.25281399  0.027058\n",
      "   0.18602799 -0.182202   -0.29758801  0.055043   -0.221218   -0.252983\n",
      "  -0.30674299 -0.41784801 -0.18049     0.35502099 -0.063897   -0.465701\n",
      "  -0.51825     0.018511   -0.03659999 -0.15257    -0.12558099 -0.13749\n",
      "  -0.10668901 -0.063176   -0.701646    0.212679   -0.70456201 -0.014287\n",
      "  -0.33910301  0.16251998  0.147784    0.61520702 -0.39680199  0.080468\n",
      "   0.043062    0.685646   -0.31784499 -0.37651999  0.289397   -0.107419\n",
      "  -0.61322799  0.142208   -0.096077   -0.05287302 -0.202635    0.025847\n",
      "  -0.328252   -0.32666299 -0.25585101 -0.013956    0.257179    0.29986\n",
      "   0.090057    0.064884   -0.189496   -0.156882    0.34992199  0.078127\n",
      "   0.019261   -0.01053199 -0.7448      0.295022   -0.60444099 -0.37230299\n",
      "  -0.208525   -0.347336    0.209277   -0.42052399 -0.06109899  0.076735\n",
      "   0.142943    0.182563   -0.40788999  0.38081001 -0.114491    0.18413201\n",
      "   0.095158   -0.19118801  0.29386099 -0.063265   -0.33073699 -0.016108\n",
      "   0.018727   -0.216921    0.117197   -0.54154399  0.20382699  0.14324499\n",
      "   0.131605    0.107962    0.48815499 -0.036621   -0.065258   -0.331529\n",
      "   0.30981501 -0.436809   -0.14064699 -0.103414    0.090167   -0.062472\n",
      "   0.52163     0.20434    -0.143236   -0.103855    0.10328801 -0.26171201\n",
      "  -0.23163701  0.374057    0.067362   -0.39150101  0.074952    0.46837301\n",
      "   0.01666999  0.145304   -0.173724   -0.130392    0.00747     0.066966\n",
      "   0.110808    0.54354201  0.038559    0.162205    0.05986801 -0.18978301\n",
      "  -0.61174402 -0.227185    0.016008   -0.013896    0.29279801 -0.564629\n",
      "  -0.22731999  0.223357   -0.298716   -0.203894    0.116862   -0.32374899\n",
      "  -0.111049    0.348077    0.27176    -0.205072   -0.037349    0.275549  ]]\n"
     ]
    }
   ],
   "source": [
    "def combinacao_de_vetores(palavras, modelo):\n",
    "    \"\"\"\n",
    "        recebe palavras tokenizadas e um modelo para transformar em um vetor\n",
    "    \"\"\"\n",
    "    vetor_resultante = np.zeros((1,300))\n",
    "\n",
    "    for pn in palavras:\n",
    "        try:\n",
    "            vetor_resultante += modelo.get_vector(pn)\n",
    "\n",
    "        except KeyError:\n",
    "            pass\n",
    "                \n",
    "\n",
    "    return vetor_resultante\n",
    "\n",
    "vetor_texto = combinacao_de_vetores(tokens, w2v_modelo_cbow)\n",
    "print(vetor_texto.shape)\n",
    "print(vetor_texto)"
   ]
  },
  {
   "cell_type": "code",
   "execution_count": 117,
   "metadata": {
    "hidden": true
   },
   "outputs": [],
   "source": [
    "def matriz_vetores(textos, modelo):\n",
    "    \"\"\"\n",
    "        utilizando o combinação de textos para várias linhas do dataset\n",
    "    \"\"\"\n",
    "    x = len(textos)\n",
    "    y = 300\n",
    "    matriz = np.zeros((x,y))\n",
    "\n",
    "    for i in range(x):\n",
    "        palavras = tokenizador(textos.iloc[i])\n",
    "        matriz[i] = combinacao_de_vetores(palavras, modelo)\n",
    "\n",
    "    return matriz"
   ]
  },
  {
   "cell_type": "code",
   "execution_count": 118,
   "metadata": {
    "hidden": true
   },
   "outputs": [],
   "source": [
    "from sklearn.linear_model import LogisticRegression\n",
    "from sklearn.metrics import classification_report\n",
    "\n",
    "def classificador(modelo, x_treino, y_treino):\n",
    "    \"\"\"\n",
    "        Treinando um Classificador\n",
    "    \"\"\"\n",
    "    RL = LogisticRegression(max_iter = 800)\n",
    "    RL.fit(x_treino, y_treino)\n",
    "    \n",
    "    return RL"
   ]
  },
  {
   "cell_type": "markdown",
   "metadata": {
    "heading_collapsed": true
   },
   "source": [
    "## Dataset\n",
    "- Dataset extraído da base do blip de interações\n",
    "- tratado com alguns exemplos mais úteis\n",
    "- balanceado\n"
   ]
  },
  {
   "cell_type": "code",
   "execution_count": 9,
   "metadata": {
    "hidden": true
   },
   "outputs": [],
   "source": [
    "dataset = pd.read_csv(\"./dataset_balanceado.csv\")"
   ]
  },
  {
   "cell_type": "markdown",
   "metadata": {
    "heading_collapsed": true,
    "hidden": true
   },
   "source": [
    "### Tipos de intenção"
   ]
  },
  {
   "cell_type": "code",
   "execution_count": 127,
   "metadata": {
    "hidden": true
   },
   "outputs": [
    {
     "data": {
      "text/plain": [
       "FazerTroca     1121\n",
       "None           1000\n",
       "MeusPedidos     827\n",
       "Name: Intenção, dtype: int64"
      ]
     },
     "execution_count": 127,
     "metadata": {},
     "output_type": "execute_result"
    }
   ],
   "source": [
    "qtd_classes_abs = dataset['Intenção'].value_counts()\n",
    "qtd_classes_abs"
   ]
  },
  {
   "cell_type": "markdown",
   "metadata": {
    "heading_collapsed": true,
    "hidden": true
   },
   "source": [
    "### Exemplos"
   ]
  },
  {
   "cell_type": "code",
   "execution_count": 128,
   "metadata": {
    "hidden": true,
    "scrolled": true
   },
   "outputs": [
    {
     "data": {
      "text/html": [
       "<div>\n",
       "<style scoped>\n",
       "    .dataframe tbody tr th:only-of-type {\n",
       "        vertical-align: middle;\n",
       "    }\n",
       "\n",
       "    .dataframe tbody tr th {\n",
       "        vertical-align: top;\n",
       "    }\n",
       "\n",
       "    .dataframe thead th {\n",
       "        text-align: right;\n",
       "    }\n",
       "</style>\n",
       "<table border=\"1\" class=\"dataframe\">\n",
       "  <thead>\n",
       "    <tr style=\"text-align: right;\">\n",
       "      <th></th>\n",
       "      <th>Unnamed: 0</th>\n",
       "      <th>Dados</th>\n",
       "      <th>Frase do usuário</th>\n",
       "      <th>Intenção</th>\n",
       "      <th>sentenceWithoutStopWord</th>\n",
       "    </tr>\n",
       "  </thead>\n",
       "  <tbody>\n",
       "    <tr>\n",
       "      <th>2121</th>\n",
       "      <td>0</td>\n",
       "      <td>2021-03-26 12:32:26 +00:00</td>\n",
       "      <td>acompanhar pedido</td>\n",
       "      <td>MeusPedidos</td>\n",
       "      <td>acompanhar pedido</td>\n",
       "    </tr>\n",
       "    <tr>\n",
       "      <th>2122</th>\n",
       "      <td>18</td>\n",
       "      <td>2021-04-16 23:25:47 +00:00</td>\n",
       "      <td>pedir reembolso</td>\n",
       "      <td>MeusPedidos</td>\n",
       "      <td>pedir reembolso</td>\n",
       "    </tr>\n",
       "    <tr>\n",
       "      <th>2123</th>\n",
       "      <td>46</td>\n",
       "      <td>2021-03-29 18:02:13 +00:00</td>\n",
       "      <td>tirar duvida</td>\n",
       "      <td>MeusPedidos</td>\n",
       "      <td>tirar duvida</td>\n",
       "    </tr>\n",
       "    <tr>\n",
       "      <th>2124</th>\n",
       "      <td>51</td>\n",
       "      <td>2021-04-03 00:34:09 +00:00</td>\n",
       "      <td>garantia de pedido</td>\n",
       "      <td>MeusPedidos</td>\n",
       "      <td>garantia pedido</td>\n",
       "    </tr>\n",
       "    <tr>\n",
       "      <th>2125</th>\n",
       "      <td>106</td>\n",
       "      <td>2021-04-09 03:06:00 +00:00</td>\n",
       "      <td>meu pedido ta sendo processado ainda e no meu ...</td>\n",
       "      <td>MeusPedidos</td>\n",
       "      <td>pedido sendo processado cartao consta</td>\n",
       "    </tr>\n",
       "    <tr>\n",
       "      <th>...</th>\n",
       "      <td>...</td>\n",
       "      <td>...</td>\n",
       "      <td>...</td>\n",
       "      <td>...</td>\n",
       "      <td>...</td>\n",
       "    </tr>\n",
       "    <tr>\n",
       "      <th>2943</th>\n",
       "      <td>1502</td>\n",
       "      <td>2021-04-16 12:42:47 +00:00</td>\n",
       "      <td>porque demora tanto esta aprovacao se logo qua...</td>\n",
       "      <td>MeusPedidos</td>\n",
       "      <td>demora aprovacao pagamento pedido bate pronto ...</td>\n",
       "    </tr>\n",
       "    <tr>\n",
       "      <th>2944</th>\n",
       "      <td>1512</td>\n",
       "      <td>2021-05-01 13:30:29 +00:00</td>\n",
       "      <td>esta com meu pedido para entrega atrasado</td>\n",
       "      <td>MeusPedidos</td>\n",
       "      <td>pedido entrega atrasado</td>\n",
       "    </tr>\n",
       "    <tr>\n",
       "      <th>2945</th>\n",
       "      <td>1519</td>\n",
       "      <td>2021-04-26 22:58:19 +00:00</td>\n",
       "      <td>recebi hoje o meu pedido</td>\n",
       "      <td>MeusPedidos</td>\n",
       "      <td>recebi hoje pedido</td>\n",
       "    </tr>\n",
       "    <tr>\n",
       "      <th>2946</th>\n",
       "      <td>1522</td>\n",
       "      <td>2021-03-15 15:00:51 +00:00</td>\n",
       "      <td>nao consigo concluir pedido</td>\n",
       "      <td>MeusPedidos</td>\n",
       "      <td>consigo concluir pedido</td>\n",
       "    </tr>\n",
       "    <tr>\n",
       "      <th>2947</th>\n",
       "      <td>1527</td>\n",
       "      <td>2021-05-09 15:39:30 +00:00</td>\n",
       "      <td>fechei um pedido mas nao consigo pagar com a c...</td>\n",
       "      <td>MeusPedidos</td>\n",
       "      <td>fechei pedido consigo pagar chave pix</td>\n",
       "    </tr>\n",
       "  </tbody>\n",
       "</table>\n",
       "<p>827 rows × 5 columns</p>\n",
       "</div>"
      ],
      "text/plain": [
       "      Unnamed: 0                       Dados  \\\n",
       "2121           0  2021-03-26 12:32:26 +00:00   \n",
       "2122          18  2021-04-16 23:25:47 +00:00   \n",
       "2123          46  2021-03-29 18:02:13 +00:00   \n",
       "2124          51  2021-04-03 00:34:09 +00:00   \n",
       "2125         106  2021-04-09 03:06:00 +00:00   \n",
       "...          ...                         ...   \n",
       "2943        1502  2021-04-16 12:42:47 +00:00   \n",
       "2944        1512  2021-05-01 13:30:29 +00:00   \n",
       "2945        1519  2021-04-26 22:58:19 +00:00   \n",
       "2946        1522  2021-03-15 15:00:51 +00:00   \n",
       "2947        1527  2021-05-09 15:39:30 +00:00   \n",
       "\n",
       "                                       Frase do usuário     Intenção  \\\n",
       "2121                                  acompanhar pedido  MeusPedidos   \n",
       "2122                                    pedir reembolso  MeusPedidos   \n",
       "2123                                       tirar duvida  MeusPedidos   \n",
       "2124                                 garantia de pedido  MeusPedidos   \n",
       "2125  meu pedido ta sendo processado ainda e no meu ...  MeusPedidos   \n",
       "...                                                 ...          ...   \n",
       "2943  porque demora tanto esta aprovacao se logo qua...  MeusPedidos   \n",
       "2944         esta com meu pedido para entrega atrasado   MeusPedidos   \n",
       "2945                          recebi hoje o meu pedido   MeusPedidos   \n",
       "2946                        nao consigo concluir pedido  MeusPedidos   \n",
       "2947  fechei um pedido mas nao consigo pagar com a c...  MeusPedidos   \n",
       "\n",
       "                                sentenceWithoutStopWord  \n",
       "2121                                  acompanhar pedido  \n",
       "2122                                    pedir reembolso  \n",
       "2123                                       tirar duvida  \n",
       "2124                                    garantia pedido  \n",
       "2125              pedido sendo processado cartao consta  \n",
       "...                                                 ...  \n",
       "2943  demora aprovacao pagamento pedido bate pronto ...  \n",
       "2944                            pedido entrega atrasado  \n",
       "2945                                 recebi hoje pedido  \n",
       "2946                            consigo concluir pedido  \n",
       "2947              fechei pedido consigo pagar chave pix  \n",
       "\n",
       "[827 rows x 5 columns]"
      ]
     },
     "execution_count": 128,
     "metadata": {},
     "output_type": "execute_result"
    }
   ],
   "source": [
    "dataset[dataset['Intenção']=='MeusPedidos']"
   ]
  },
  {
   "cell_type": "code",
   "execution_count": 130,
   "metadata": {
    "hidden": true,
    "scrolled": true
   },
   "outputs": [
    {
     "data": {
      "text/html": [
       "<div>\n",
       "<style scoped>\n",
       "    .dataframe tbody tr th:only-of-type {\n",
       "        vertical-align: middle;\n",
       "    }\n",
       "\n",
       "    .dataframe tbody tr th {\n",
       "        vertical-align: top;\n",
       "    }\n",
       "\n",
       "    .dataframe thead th {\n",
       "        text-align: right;\n",
       "    }\n",
       "</style>\n",
       "<table border=\"1\" class=\"dataframe\">\n",
       "  <thead>\n",
       "    <tr style=\"text-align: right;\">\n",
       "      <th></th>\n",
       "      <th>Unnamed: 0</th>\n",
       "      <th>Dados</th>\n",
       "      <th>Frase do usuário</th>\n",
       "      <th>Intenção</th>\n",
       "      <th>sentenceWithoutStopWord</th>\n",
       "    </tr>\n",
       "  </thead>\n",
       "  <tbody>\n",
       "    <tr>\n",
       "      <th>1000</th>\n",
       "      <td>3</td>\n",
       "      <td>2021-04-07 20:03:48 +00:00</td>\n",
       "      <td>🔄trocas e devolucao</td>\n",
       "      <td>FazerTroca</td>\n",
       "      <td>trocas devolucao</td>\n",
       "    </tr>\n",
       "    <tr>\n",
       "      <th>1001</th>\n",
       "      <td>6</td>\n",
       "      <td>2021-04-07 17:49:38 +00:00</td>\n",
       "      <td>troca de produto</td>\n",
       "      <td>FazerTroca</td>\n",
       "      <td>troca produto</td>\n",
       "    </tr>\n",
       "    <tr>\n",
       "      <th>1002</th>\n",
       "      <td>13</td>\n",
       "      <td>2021-04-17 15:06:37 +00:00</td>\n",
       "      <td>defeito</td>\n",
       "      <td>FazerTroca</td>\n",
       "      <td>defeito</td>\n",
       "    </tr>\n",
       "    <tr>\n",
       "      <th>1003</th>\n",
       "      <td>24</td>\n",
       "      <td>2021-03-20 11:35:43 +00:00</td>\n",
       "      <td>🔄troca de produto</td>\n",
       "      <td>FazerTroca</td>\n",
       "      <td>troca produto</td>\n",
       "    </tr>\n",
       "    <tr>\n",
       "      <th>1004</th>\n",
       "      <td>27</td>\n",
       "      <td>2021-03-25 22:00:52 +00:00</td>\n",
       "      <td>quero informacao da prancha sensi 4 d</td>\n",
       "      <td>FazerTroca</td>\n",
       "      <td>informacao prancha sensi d</td>\n",
       "    </tr>\n",
       "    <tr>\n",
       "      <th>...</th>\n",
       "      <td>...</td>\n",
       "      <td>...</td>\n",
       "      <td>...</td>\n",
       "      <td>...</td>\n",
       "      <td>...</td>\n",
       "    </tr>\n",
       "    <tr>\n",
       "      <th>2116</th>\n",
       "      <td>1492</td>\n",
       "      <td>2021-02-17 20:22:47 +00:00</td>\n",
       "      <td>quero trocar a mercadoria</td>\n",
       "      <td>FazerTroca</td>\n",
       "      <td>trocar mercadoria</td>\n",
       "    </tr>\n",
       "    <tr>\n",
       "      <th>2117</th>\n",
       "      <td>1507</td>\n",
       "      <td>2021-05-17 15:42:15 +00:00</td>\n",
       "      <td>boa tarde gostaria de saber as medidas desse p...</td>\n",
       "      <td>FazerTroca</td>\n",
       "      <td>gostaria medidas produto carteira couro</td>\n",
       "    </tr>\n",
       "    <tr>\n",
       "      <th>2118</th>\n",
       "      <td>1514</td>\n",
       "      <td>2021-04-14 13:10:28 +00:00</td>\n",
       "      <td>preciso de uma copia da ultima nota fiscal</td>\n",
       "      <td>FazerTroca</td>\n",
       "      <td>preciso copia ultima nota fiscal</td>\n",
       "    </tr>\n",
       "    <tr>\n",
       "      <th>2119</th>\n",
       "      <td>1523</td>\n",
       "      <td>2021-03-09 15:35:49 +00:00</td>\n",
       "      <td>gostaria de saber se ha previsao de chegada do...</td>\n",
       "      <td>FazerTroca</td>\n",
       "      <td>gostaria ha previsao chegada tenis masculinos</td>\n",
       "    </tr>\n",
       "    <tr>\n",
       "      <th>2120</th>\n",
       "      <td>1525</td>\n",
       "      <td>2021-04-03 21:19:25 +00:00</td>\n",
       "      <td>o produto cinto com fivela retangular - preto/...</td>\n",
       "      <td>FazerTroca</td>\n",
       "      <td>produto cinto fivela retangular preto unico co...</td>\n",
       "    </tr>\n",
       "  </tbody>\n",
       "</table>\n",
       "<p>1121 rows × 5 columns</p>\n",
       "</div>"
      ],
      "text/plain": [
       "      Unnamed: 0                       Dados  \\\n",
       "1000           3  2021-04-07 20:03:48 +00:00   \n",
       "1001           6  2021-04-07 17:49:38 +00:00   \n",
       "1002          13  2021-04-17 15:06:37 +00:00   \n",
       "1003          24  2021-03-20 11:35:43 +00:00   \n",
       "1004          27  2021-03-25 22:00:52 +00:00   \n",
       "...          ...                         ...   \n",
       "2116        1492  2021-02-17 20:22:47 +00:00   \n",
       "2117        1507  2021-05-17 15:42:15 +00:00   \n",
       "2118        1514  2021-04-14 13:10:28 +00:00   \n",
       "2119        1523  2021-03-09 15:35:49 +00:00   \n",
       "2120        1525  2021-04-03 21:19:25 +00:00   \n",
       "\n",
       "                                       Frase do usuário    Intenção  \\\n",
       "1000                                🔄trocas e devolucao  FazerTroca   \n",
       "1001                                   troca de produto  FazerTroca   \n",
       "1002                                            defeito  FazerTroca   \n",
       "1003                                  🔄troca de produto  FazerTroca   \n",
       "1004              quero informacao da prancha sensi 4 d  FazerTroca   \n",
       "...                                                 ...         ...   \n",
       "2116                          quero trocar a mercadoria  FazerTroca   \n",
       "2117  boa tarde gostaria de saber as medidas desse p...  FazerTroca   \n",
       "2118         preciso de uma copia da ultima nota fiscal  FazerTroca   \n",
       "2119  gostaria de saber se ha previsao de chegada do...  FazerTroca   \n",
       "2120  o produto cinto com fivela retangular - preto/...  FazerTroca   \n",
       "\n",
       "                                sentenceWithoutStopWord  \n",
       "1000                                   trocas devolucao  \n",
       "1001                                      troca produto  \n",
       "1002                                            defeito  \n",
       "1003                                      troca produto  \n",
       "1004                         informacao prancha sensi d  \n",
       "...                                                 ...  \n",
       "2116                                  trocar mercadoria  \n",
       "2117            gostaria medidas produto carteira couro  \n",
       "2118                   preciso copia ultima nota fiscal  \n",
       "2119      gostaria ha previsao chegada tenis masculinos  \n",
       "2120  produto cinto fivela retangular preto unico co...  \n",
       "\n",
       "[1121 rows x 5 columns]"
      ]
     },
     "execution_count": 130,
     "metadata": {},
     "output_type": "execute_result"
    }
   ],
   "source": [
    "dataset[dataset['Intenção']=='FazerTroca']"
   ]
  },
  {
   "cell_type": "code",
   "execution_count": 131,
   "metadata": {
    "hidden": true,
    "scrolled": true
   },
   "outputs": [
    {
     "data": {
      "text/html": [
       "<div>\n",
       "<style scoped>\n",
       "    .dataframe tbody tr th:only-of-type {\n",
       "        vertical-align: middle;\n",
       "    }\n",
       "\n",
       "    .dataframe tbody tr th {\n",
       "        vertical-align: top;\n",
       "    }\n",
       "\n",
       "    .dataframe thead th {\n",
       "        text-align: right;\n",
       "    }\n",
       "</style>\n",
       "<table border=\"1\" class=\"dataframe\">\n",
       "  <thead>\n",
       "    <tr style=\"text-align: right;\">\n",
       "      <th></th>\n",
       "      <th>Unnamed: 0</th>\n",
       "      <th>Dados</th>\n",
       "      <th>Frase do usuário</th>\n",
       "      <th>Intenção</th>\n",
       "      <th>sentenceWithoutStopWord</th>\n",
       "    </tr>\n",
       "  </thead>\n",
       "  <tbody>\n",
       "    <tr>\n",
       "      <th>0</th>\n",
       "      <td>7</td>\n",
       "      <td>2021-03-24 14:25:02 +00:00</td>\n",
       "      <td>👍sim, confirmo</td>\n",
       "      <td>None</td>\n",
       "      <td>confirmo</td>\n",
       "    </tr>\n",
       "    <tr>\n",
       "      <th>1</th>\n",
       "      <td>11</td>\n",
       "      <td>2021-03-19 18:30:50 +00:00</td>\n",
       "      <td>dsvvsdvvsd</td>\n",
       "      <td>None</td>\n",
       "      <td>dsvvsdvvsd</td>\n",
       "    </tr>\n",
       "    <tr>\n",
       "      <th>2</th>\n",
       "      <td>12</td>\n",
       "      <td>2021-03-23 11:32:53 +00:00</td>\n",
       "      <td>nao foi entregue</td>\n",
       "      <td>None</td>\n",
       "      <td>entregue</td>\n",
       "    </tr>\n",
       "    <tr>\n",
       "      <th>3</th>\n",
       "      <td>14</td>\n",
       "      <td>2021-03-19 13:06:52 +00:00</td>\n",
       "      <td>prezados senhores</td>\n",
       "      <td>None</td>\n",
       "      <td>prezados senhores</td>\n",
       "    </tr>\n",
       "    <tr>\n",
       "      <th>4</th>\n",
       "      <td>40</td>\n",
       "      <td>2021-04-04 15:26:35 +00:00</td>\n",
       "      <td>gostaria de saber onde fica a assistencia tecn...</td>\n",
       "      <td>None</td>\n",
       "      <td>gostaria onde fica assistencia tecnica gama ci...</td>\n",
       "    </tr>\n",
       "    <tr>\n",
       "      <th>...</th>\n",
       "      <td>...</td>\n",
       "      <td>...</td>\n",
       "      <td>...</td>\n",
       "      <td>...</td>\n",
       "      <td>...</td>\n",
       "    </tr>\n",
       "    <tr>\n",
       "      <th>995</th>\n",
       "      <td>145</td>\n",
       "      <td>2021-05-17 13:28:33 +00:00</td>\n",
       "      <td>nao consigo recuperar minha senha</td>\n",
       "      <td>None</td>\n",
       "      <td>consigo recuperar senha</td>\n",
       "    </tr>\n",
       "    <tr>\n",
       "      <th>996</th>\n",
       "      <td>147</td>\n",
       "      <td>2021-05-15 00:57:36 +00:00</td>\n",
       "      <td>eu quero pijama de inverno</td>\n",
       "      <td>None</td>\n",
       "      <td>pijama inverno</td>\n",
       "    </tr>\n",
       "    <tr>\n",
       "      <th>997</th>\n",
       "      <td>151</td>\n",
       "      <td>2021-04-12 16:04:39 +00:00</td>\n",
       "      <td>essa jaqueta tem capuz</td>\n",
       "      <td>None</td>\n",
       "      <td>jaqueta capuz</td>\n",
       "    </tr>\n",
       "    <tr>\n",
       "      <th>998</th>\n",
       "      <td>164</td>\n",
       "      <td>2021-04-13 12:02:02 +00:00</td>\n",
       "      <td>tem calca capri de cotton?</td>\n",
       "      <td>None</td>\n",
       "      <td>calca capri cotton</td>\n",
       "    </tr>\n",
       "    <tr>\n",
       "      <th>999</th>\n",
       "      <td>172</td>\n",
       "      <td>2021-05-01 22:10:09 +00:00</td>\n",
       "      <td>medidas</td>\n",
       "      <td>None</td>\n",
       "      <td>medidas</td>\n",
       "    </tr>\n",
       "  </tbody>\n",
       "</table>\n",
       "<p>1000 rows × 5 columns</p>\n",
       "</div>"
      ],
      "text/plain": [
       "     Unnamed: 0                       Dados  \\\n",
       "0             7  2021-03-24 14:25:02 +00:00   \n",
       "1            11  2021-03-19 18:30:50 +00:00   \n",
       "2            12  2021-03-23 11:32:53 +00:00   \n",
       "3            14  2021-03-19 13:06:52 +00:00   \n",
       "4            40  2021-04-04 15:26:35 +00:00   \n",
       "..          ...                         ...   \n",
       "995         145  2021-05-17 13:28:33 +00:00   \n",
       "996         147  2021-05-15 00:57:36 +00:00   \n",
       "997         151  2021-04-12 16:04:39 +00:00   \n",
       "998         164  2021-04-13 12:02:02 +00:00   \n",
       "999         172  2021-05-01 22:10:09 +00:00   \n",
       "\n",
       "                                      Frase do usuário Intenção  \\\n",
       "0                                       👍sim, confirmo     None   \n",
       "1                                           dsvvsdvvsd     None   \n",
       "2                                    nao foi entregue      None   \n",
       "3                                   prezados senhores      None   \n",
       "4    gostaria de saber onde fica a assistencia tecn...     None   \n",
       "..                                                 ...      ...   \n",
       "995                  nao consigo recuperar minha senha     None   \n",
       "996                         eu quero pijama de inverno     None   \n",
       "997                            essa jaqueta tem capuz      None   \n",
       "998                         tem calca capri de cotton?     None   \n",
       "999                                           medidas      None   \n",
       "\n",
       "                               sentenceWithoutStopWord  \n",
       "0                                             confirmo  \n",
       "1                                           dsvvsdvvsd  \n",
       "2                                             entregue  \n",
       "3                                    prezados senhores  \n",
       "4    gostaria onde fica assistencia tecnica gama ci...  \n",
       "..                                                 ...  \n",
       "995                            consigo recuperar senha  \n",
       "996                                     pijama inverno  \n",
       "997                                      jaqueta capuz  \n",
       "998                                 calca capri cotton  \n",
       "999                                            medidas  \n",
       "\n",
       "[1000 rows x 5 columns]"
      ]
     },
     "execution_count": 131,
     "metadata": {},
     "output_type": "execute_result"
    }
   ],
   "source": [
    "dataset[dataset['Intenção']=='None']"
   ]
  },
  {
   "cell_type": "markdown",
   "metadata": {
    "heading_collapsed": true
   },
   "source": [
    "## Separando meu  X e Y\n",
    "- x -> frases do usuário (o que input para previsão)\n",
    "- y -> intenção ( o que quero prever)"
   ]
  },
  {
   "cell_type": "code",
   "execution_count": 114,
   "metadata": {
    "hidden": true
   },
   "outputs": [],
   "source": [
    "frases_treino = dataset['Frase do usuário']\n",
    "classificacoes_treino = dataset['Intenção']"
   ]
  },
  {
   "cell_type": "markdown",
   "metadata": {
    "heading_collapsed": true
   },
   "source": [
    "## Treinando"
   ]
  },
  {
   "cell_type": "code",
   "execution_count": 115,
   "metadata": {
    "hidden": true
   },
   "outputs": [],
   "source": [
    "# transoframndo meu dataset de treino em vetores\n",
    "matriz_vetores_treino_cbow = matriz_vetores(frases_treino, w2v_modelo_cbow)"
   ]
  },
  {
   "cell_type": "code",
   "execution_count": 119,
   "metadata": {
    "hidden": true,
    "scrolled": true
   },
   "outputs": [],
   "source": [
    "# Treinando\n",
    "RL_cbow = classificador(w2v_modelo_cbow,\n",
    "                        matriz_vetores_treino_cbow,\n",
    "                        classificacoes_treino)"
   ]
  },
  {
   "cell_type": "markdown",
   "metadata": {
    "heading_collapsed": true
   },
   "source": [
    "## Testando"
   ]
  },
  {
   "cell_type": "code",
   "execution_count": 120,
   "metadata": {
    "hidden": true
   },
   "outputs": [],
   "source": [
    "sentence = 'nao consigo concluir pedido'"
   ]
  },
  {
   "cell_type": "code",
   "execution_count": 123,
   "metadata": {
    "hidden": true
   },
   "outputs": [],
   "source": [
    "# fazendo um exemplo\n",
    "titulo_tokens = tokenizador(sentence)\n",
    "titulo_vetor = combinacao_de_vetores(titulo_tokens, w2v_modelo_cbow)\n",
    "titulo_categoria = RL_cbow.predict(titulo_vetor)"
   ]
  },
  {
   "cell_type": "code",
   "execution_count": 132,
   "metadata": {
    "hidden": true
   },
   "outputs": [
    {
     "data": {
      "text/plain": [
       "'MeusPedidos'"
      ]
     },
     "execution_count": 132,
     "metadata": {},
     "output_type": "execute_result"
    }
   ],
   "source": [
    "titulo_categoria[0]"
   ]
  },
  {
   "cell_type": "markdown",
   "metadata": {
    "heading_collapsed": true
   },
   "source": [
    "## Salvando em um binário"
   ]
  },
  {
   "cell_type": "code",
   "execution_count": 133,
   "metadata": {
    "hidden": true
   },
   "outputs": [],
   "source": [
    "import pickle\n",
    "pickle.dump(RL_cbow, open('modelo_nlp.sav','wb'))"
   ]
  },
  {
   "cell_type": "code",
   "execution_count": 134,
   "metadata": {
    "hidden": true
   },
   "outputs": [],
   "source": [
    "modelo_carregado = pickle.load(open('modelo_nlp.sav','rb'))"
   ]
  },
  {
   "cell_type": "code",
   "execution_count": 136,
   "metadata": {
    "hidden": true
   },
   "outputs": [
    {
     "data": {
      "text/plain": [
       "'MeusPedidos'"
      ]
     },
     "execution_count": 136,
     "metadata": {},
     "output_type": "execute_result"
    }
   ],
   "source": [
    "titulo_vetor_modelo_carregado = combinacao_de_vetores(titulo_tokens, w2v_modelo_cbow)\n",
    "titulo_categoria_modelo_carregado = modelo_carregado.predict(titulo_vetor_modelo_carregado)\n",
    "titulo_categoria_modelo_carregado[0]"
   ]
  },
  {
   "cell_type": "code",
   "execution_count": null,
   "metadata": {
    "hidden": true
   },
   "outputs": [],
   "source": []
  }
 ],
 "metadata": {
  "kernelspec": {
   "display_name": "Python 3",
   "language": "python",
   "name": "python3"
  },
  "language_info": {
   "codemirror_mode": {
    "name": "ipython",
    "version": 3
   },
   "file_extension": ".py",
   "mimetype": "text/x-python",
   "name": "python",
   "nbconvert_exporter": "python",
   "pygments_lexer": "ipython3",
   "version": "3.8.5"
  }
 },
 "nbformat": 4,
 "nbformat_minor": 4
}
